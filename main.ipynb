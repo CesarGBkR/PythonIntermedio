{
 "cells": [
  {
   "cell_type": "markdown",
   "metadata": {},
   "source": [
    "# Repaso de VENV\n",
    "- python3 -m venv nombre_venv\n",
    "- .\\venv\\Scripts\\activate\n",
    "- deactivate\n",
    "- alias avenv=\".\\venv\\Scripts\\activate\" \n",
    "(Creamos una forma corta de llamar al comando \".\\venv\\Scripts\\activate\")"
   ]
  },
  {
   "cell_type": "code",
   "execution_count": null,
   "metadata": {},
   "outputs": [],
   "source": []
  }
 ],
 "metadata": {
  "language_info": {
   "name": "python"
  },
  "orig_nbformat": 4
 },
 "nbformat": 4,
 "nbformat_minor": 2
}
