{
 "cells": [
  {
   "cell_type": "markdown",
   "metadata": {},
   "source": [
    "# Repaso de VENV\n",
    "\n",
    "- python3 -m venv nombre_venv\n",
    "- .\\venv\\Scripts\\activate\n",
    "- deactivate\n",
    "- alias avenv=.\\venv\\Scripts\\activate \n",
    "(Creamos una forma corta de llamar al comando \".\\venv\\Scripts\\activate\")"
   ]
  },
  {
   "cell_type": "markdown",
   "metadata": {},
   "source": [
    "# Instalación de dependencias\n",
    "\n",
    "- pip freeze (revisamos modulos actuales)\n",
    "- pip install pandas (Intalamos nuevo módulo)\n",
    "- pip freeze (revisamos que se haya instalado correctamente)\n",
    "- pip freeze > requeriments.txt (Guardamos los modulos actuales para facil instalación en nuevos entornos)"
   ]
  }
 ],
 "metadata": {
  "language_info": {
   "name": "python"
  },
  "orig_nbformat": 4
 },
 "nbformat": 4,
 "nbformat_minor": 2
}
