{
 "cells": [
  {
   "cell_type": "markdown",
   "metadata": {},
   "source": [
    "### Código a depurar:"
   ]
  },
  {
   "cell_type": "code",
   "execution_count": null,
   "metadata": {},
   "outputs": [],
   "source": [
    "def divisors(num):\n",
    "    divisors = []\n",
    "    for i in range(1, num + 1 ):\n",
    "        if num %i == 1:\n",
    "            divisors.append(i)\n",
    "    return divisors\n",
    "\n",
    "def run():\n",
    "    num = int(input(\"Ingresa un número: \"))\n",
    "    print(divisors(num))\n",
    "    print(\"Fin del programa\")\n",
    "\n",
    "if __name__ =='__main__':\n",
    "    run()"
   ]
  },
  {
   "cell_type": "markdown",
   "metadata": {},
   "source": [
    "Empezamos probando la pestaña *\"Run and debug\"* de Visual Studio Code.\n",
    "También probamos las utilidades mostradas en la nueva ventana generada, como el boton de pausa y salto.\n",
    "Probamos breakpoints en la linea **4** del código para entender como funcionan.\n",
    "Finalmente con las nuevas habilidades aprendidas, depuramos el código, haciendo que cumpla correctamente su función de mostrarnos los números entre los que es divisible el número entregado"
   ]
  },
  {
   "cell_type": "markdown",
   "metadata": {},
   "source": [
    "### Código final:"
   ]
  },
  {
   "cell_type": "code",
   "execution_count": null,
   "metadata": {},
   "outputs": [],
   "source": [
    "def divisors(num):\n",
    "    divisors = []\n",
    "    for i in range(1, num + 1 ):\n",
    "        if num %i == 0:\n",
    "            divisors.append(i)\n",
    "    return divisors\n",
    "\n",
    "def run():\n",
    "    num = int(input(\"Ingresa un número: \"))\n",
    "    print(divisors(num))\n",
    "    print(\"Fin del programa\")\n",
    "\n",
    "if __name__ =='__main__':\n",
    "    run()"
   ]
  }
 ],
 "metadata": {
  "kernelspec": {
   "display_name": "Python 3.10.5 ('venv': venv)",
   "language": "python",
   "name": "python3"
  },
  "language_info": {
   "name": "python",
   "version": "3.10.5"
  },
  "orig_nbformat": 4,
  "vscode": {
   "interpreter": {
    "hash": "5117e7954643bfb1377dd27c1b71a7781712931f39cdc8794f10caa81537c54f"
   }
  }
 },
 "nbformat": 4,
 "nbformat_minor": 2
}
